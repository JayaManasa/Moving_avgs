{
 "cells": [
  {
   "cell_type": "code",
   "execution_count": null,
   "id": "63bb48a1",
   "metadata": {},
   "outputs": [],
   "source": [
    "import numpy as np\n",
    "import pandas as pd\n",
    "from pylab import plt"
   ]
  },
  {
   "cell_type": "code",
   "execution_count": null,
   "id": "8bbf3c1b",
   "metadata": {},
   "outputs": [],
   "source": [
    "pd.set_option('display.max_rows', None)"
   ]
  },
  {
   "cell_type": "code",
   "execution_count": null,
   "id": "1975148a",
   "metadata": {},
   "outputs": [],
   "source": [
    "# raw = pd.read_json(\"/Users/sampath/workspace/dev/dt-backend/marketData/nifty 50/day/_combinedData.json\")\n",
    "raw = pd.read_json(\"../data/axisbank/day.json\")\n",
    "\n",
    "raw"
   ]
  },
  {
   "cell_type": "code",
   "execution_count": null,
   "id": "fbcd21ad",
   "metadata": {},
   "outputs": [],
   "source": [
    "raw.info()"
   ]
  },
  {
   "cell_type": "code",
   "execution_count": null,
   "id": "bd739171",
   "metadata": {},
   "outputs": [],
   "source": [
    "raw.columns = ['date', 'open', 'high', 'low', 'close', 'volume']"
   ]
  },
  {
   "cell_type": "code",
   "execution_count": null,
   "id": "171b2bc2",
   "metadata": {},
   "outputs": [],
   "source": [
    "col = raw.loc[: , \"open\":\"close\"]\n",
    "raw['OHLC4'] = col.mean(axis=1)"
   ]
  },
  {
   "cell_type": "code",
   "execution_count": null,
   "id": "46060d84",
   "metadata": {},
   "outputs": [],
   "source": [
    "raw['SMA12'] = raw['OHLC4'].rolling(12).mean()\n",
    "raw['SMA26'] = raw['OHLC4'].rolling(26).mean()\n",
    "raw = raw.fillna(0)\n",
    "raw"
   ]
  },
  {
   "cell_type": "code",
   "execution_count": null,
   "id": "2c84c4f6",
   "metadata": {},
   "outputs": [],
   "source": [
    "# MOVING AVERAGE CHECK - Give SIGNAL\n",
    "\n",
    "buySignal = ((raw['SMA12'] > raw['SMA26']) & ~(raw['SMA26'] == 0))\n",
    "sellSignal = (raw['SMA26'] > raw['SMA12'])\n",
    "\n",
    "conditions = [buySignal, sellSignal]\n",
    "choices = ['BUY', 'SELL']\n",
    "raw['MACD_TREND'] = np.select(conditions, choices, default='')\n",
    "\n",
    "raw"
   ]
  },
  {
   "cell_type": "code",
   "execution_count": null,
   "id": "0816225b",
   "metadata": {},
   "outputs": [],
   "source": [
    "# signalChangeCheck = ~(raw['MACD_TREND'] == raw['MACD_TREND'].shift()) & ~(raw['MACD_TREND'] == '0')\n",
    "\n",
    "# conditions = [signalChangeCheck]\n",
    "# choices = [raw['close']]\n",
    "# var = np.select(conditions, choices, default=0)\n",
    "# raw['TRADED_AT'] = var\n",
    "\n",
    "# raw"
   ]
  },
  {
   "cell_type": "code",
   "execution_count": null,
   "id": "0a46b22c",
   "metadata": {},
   "outputs": [],
   "source": []
  }
 ],
 "metadata": {
  "kernelspec": {
   "display_name": "Python 3 (ipykernel)",
   "language": "python",
   "name": "python3"
  },
  "language_info": {
   "codemirror_mode": {
    "name": "ipython",
    "version": 3
   },
   "file_extension": ".py",
   "mimetype": "text/x-python",
   "name": "python",
   "nbconvert_exporter": "python",
   "pygments_lexer": "ipython3",
   "version": "3.9.12"
  }
 },
 "nbformat": 4,
 "nbformat_minor": 5
}
