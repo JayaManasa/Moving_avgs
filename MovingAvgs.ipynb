{
 "cells": [
  {
   "cell_type": "code",
   "execution_count": 19,
   "outputs": [],
   "source": [
    "import pandas as pd\n",
    "import json\n",
    "import numpy as np\n",
    "import matplotlib.pyplot as plt\n"
   ],
   "metadata": {
    "collapsed": false,
    "pycharm": {
     "name": "#%%\n"
    }
   }
  },
  {
   "cell_type": "code",
   "execution_count": 20,
   "outputs": [],
   "source": [
    "data = pd.read_json('day.json')"
   ],
   "metadata": {
    "collapsed": false,
    "pycharm": {
     "name": "#%%\n"
    }
   }
  },
  {
   "cell_type": "code",
   "execution_count": 21,
   "outputs": [
    {
     "name": "stdout",
     "output_type": "stream",
     "text": [
      "                       date  open  high   low  close  volume\n",
      "0  2003-01-02T00:00:00+0530  8.89  8.89  8.54   8.59  300764\n",
      "1  2003-01-03T00:00:00+0530  8.55  8.68  8.30   8.41  347504\n",
      "2  2003-01-06T00:00:00+0530  8.49  8.50  8.34   8.40  316714\n",
      "3  2003-01-07T00:00:00+0530  8.40  8.55  8.31   8.41  279784\n",
      "4  2003-01-08T00:00:00+0530  8.48  8.66  8.41   8.58  195484\n"
     ]
    }
   ],
   "source": [
    "data.columns= ['date', 'open', 'high', 'low', 'close', 'volume']\n",
    "\n",
    "print(data.head())"
   ],
   "metadata": {
    "collapsed": false,
    "pycharm": {
     "name": "#%%\n"
    }
   }
  },
  {
   "cell_type": "code",
   "execution_count": 23,
   "outputs": [
    {
     "name": "stdout",
     "output_type": "stream",
     "text": [
      "                        date   open   high   low  close   volume    MA50  \\\n",
      "0   2003-01-02T00:00:00+0530   8.89   8.89  8.54   8.59   300764     NaN   \n",
      "1   2003-01-03T00:00:00+0530   8.55   8.68  8.30   8.41   347504     NaN   \n",
      "2   2003-01-06T00:00:00+0530   8.49   8.50  8.34   8.40   316714     NaN   \n",
      "3   2003-01-07T00:00:00+0530   8.40   8.55  8.31   8.41   279784     NaN   \n",
      "4   2003-01-08T00:00:00+0530   8.48   8.66  8.41   8.58   195484     NaN   \n",
      "5   2003-01-09T00:00:00+0530   8.54   8.74  8.54   8.65   311079     NaN   \n",
      "6   2003-01-10T00:00:00+0530   9.00   9.10  8.65   8.87  1250034     NaN   \n",
      "7   2003-01-13T00:00:00+0530   8.90   9.10  8.83   8.87   813269     NaN   \n",
      "8   2003-01-14T00:00:00+0530   8.98   8.98  8.76   8.84   422479     NaN   \n",
      "9   2003-01-15T00:00:00+0530   8.90   9.09  8.86   9.01   708739     NaN   \n",
      "10  2003-01-16T00:00:00+0530   9.09   9.56  9.08   9.24  3551329     NaN   \n",
      "11  2003-01-17T00:00:00+0530   9.45   9.45  8.88   8.92  1358544     NaN   \n",
      "12  2003-01-20T00:00:00+0530   8.99   9.06  8.85   8.96   677849     NaN   \n",
      "13  2003-01-21T00:00:00+0530   9.68   9.68  8.89   9.21  1069529     NaN   \n",
      "14  2003-01-22T00:00:00+0530   9.40   9.40  9.05   9.11   993989     NaN   \n",
      "15  2003-01-23T00:00:00+0530   9.29   9.50  9.00   9.34  1312214     NaN   \n",
      "16  2003-01-24T00:00:00+0530   9.49   9.49  8.87   8.91   662864     NaN   \n",
      "17  2003-01-27T00:00:00+0530  10.00  10.00  8.44   8.48   479049     NaN   \n",
      "18  2003-01-28T00:00:00+0530   8.98   8.98  8.34   8.59   323089     NaN   \n",
      "19  2003-01-29T00:00:00+0530  10.00  10.00  8.41   8.47   276534     NaN   \n",
      "20  2003-01-30T00:00:00+0530   8.88   8.88  8.21   8.34   229219     NaN   \n",
      "21  2003-01-31T00:00:00+0530   8.80   8.80  8.24   8.37   261684     NaN   \n",
      "22  2003-02-03T00:00:00+0530   8.89   8.89  8.30   8.41   243004     NaN   \n",
      "23  2003-02-04T00:00:00+0530   8.83   8.83  8.39   8.43   294399     NaN   \n",
      "24  2003-02-05T00:00:00+0530   8.79   8.79  8.31   8.37   124834     NaN   \n",
      "25  2003-02-06T00:00:00+0530   8.79   8.79  8.31   8.53   209959     NaN   \n",
      "26  2003-02-07T00:00:00+0530   8.68   8.68  8.43   8.49   235439     NaN   \n",
      "27  2003-02-10T00:00:00+0530   8.69   8.69  8.35   8.38   207179     NaN   \n",
      "28  2003-02-11T00:00:00+0530   8.24   8.39  8.18   8.21   195364     NaN   \n",
      "29  2003-02-12T00:00:00+0530   8.40   8.40  8.05   8.15   165864     NaN   \n",
      "30  2003-02-14T00:00:00+0530   8.60   8.60  7.84   7.88   145099     NaN   \n",
      "31  2003-02-17T00:00:00+0530   8.58   8.58  8.01   8.20   191004     NaN   \n",
      "32  2003-02-18T00:00:00+0530   9.80   9.80  8.17   8.73  1004994     NaN   \n",
      "33  2003-02-19T00:00:00+0530   8.85   8.85  8.50   8.64   370934     NaN   \n",
      "34  2003-02-20T00:00:00+0530   8.79   9.00  8.74   8.84   780199     NaN   \n",
      "35  2003-02-21T00:00:00+0530   9.49   9.49  8.67   8.76   378709     NaN   \n",
      "36  2003-02-24T00:00:00+0530  10.00  10.00  8.85   8.95   713759     NaN   \n",
      "37  2003-02-25T00:00:00+0530   9.40   9.40  8.61   8.74   400444     NaN   \n",
      "38  2003-02-26T00:00:00+0530  10.00  10.00  8.50   8.54   252359     NaN   \n",
      "39  2003-02-27T00:00:00+0530   8.75   8.75  8.49   8.60   221584     NaN   \n",
      "40  2003-02-28T00:00:00+0530   8.76   8.84  8.50   8.60   568919     NaN   \n",
      "41  2003-03-03T00:00:00+0530   8.64   8.98  8.64   8.84  1891779     NaN   \n",
      "42  2003-03-04T00:00:00+0530   8.74   8.74  8.53   8.56   426529     NaN   \n",
      "43  2003-03-05T00:00:00+0530   8.90   8.90  8.36   8.40   214914     NaN   \n",
      "44  2003-03-06T00:00:00+0530   8.67   8.67  8.30   8.33   197184     NaN   \n",
      "45  2003-03-07T00:00:00+0530   8.26   8.27  8.05   8.11   247709     NaN   \n",
      "46  2003-03-10T00:00:00+0530   8.15   8.15  7.79   7.81   214634     NaN   \n",
      "47  2003-03-11T00:00:00+0530   7.76   8.00  7.62   7.98   258899     NaN   \n",
      "48  2003-03-12T00:00:00+0530   8.16   8.17  7.91   7.93   192619     NaN   \n",
      "49  2003-03-13T00:00:00+0530   8.05   8.07  7.70   7.84   171064  8.5564   \n",
      "50  2003-03-17T00:00:00+0530   7.80   8.23  7.70   8.17   323234  8.5480   \n",
      "51  2003-03-19T00:00:00+0530   9.00   9.00  7.94   8.00   386159  8.5398   \n",
      "52  2003-03-20T00:00:00+0530   9.00   9.00  7.87   8.10   286619  8.5338   \n",
      "53  2003-03-21T00:00:00+0530   8.64   8.64  8.09   8.13   217049  8.5282   \n",
      "54  2003-03-24T00:00:00+0530   9.00   9.00  7.94   7.97   264339  8.5160   \n",
      "55  2003-03-25T00:00:00+0530   8.19   8.19  7.81   7.93   123069  8.5016   \n",
      "56  2003-03-26T00:00:00+0530   8.39   8.39  7.91   7.93   128284  8.4828   \n",
      "57  2003-03-27T00:00:00+0530   8.20   8.20  7.83   7.91    66499  8.4636   \n",
      "58  2003-03-28T00:00:00+0530   7.92   8.11  7.92   8.02   192404  8.4472   \n",
      "59  2003-03-31T00:00:00+0530   8.02   8.08  7.82   7.86   146269  8.4242   \n",
      "\n",
      "    MA200  \n",
      "0     NaN  \n",
      "1     NaN  \n",
      "2     NaN  \n",
      "3     NaN  \n",
      "4     NaN  \n",
      "5     NaN  \n",
      "6     NaN  \n",
      "7     NaN  \n",
      "8     NaN  \n",
      "9     NaN  \n",
      "10    NaN  \n",
      "11    NaN  \n",
      "12    NaN  \n",
      "13    NaN  \n",
      "14    NaN  \n",
      "15    NaN  \n",
      "16    NaN  \n",
      "17    NaN  \n",
      "18    NaN  \n",
      "19    NaN  \n",
      "20    NaN  \n",
      "21    NaN  \n",
      "22    NaN  \n",
      "23    NaN  \n",
      "24    NaN  \n",
      "25    NaN  \n",
      "26    NaN  \n",
      "27    NaN  \n",
      "28    NaN  \n",
      "29    NaN  \n",
      "30    NaN  \n",
      "31    NaN  \n",
      "32    NaN  \n",
      "33    NaN  \n",
      "34    NaN  \n",
      "35    NaN  \n",
      "36    NaN  \n",
      "37    NaN  \n",
      "38    NaN  \n",
      "39    NaN  \n",
      "40    NaN  \n",
      "41    NaN  \n",
      "42    NaN  \n",
      "43    NaN  \n",
      "44    NaN  \n",
      "45    NaN  \n",
      "46    NaN  \n",
      "47    NaN  \n",
      "48    NaN  \n",
      "49    NaN  \n",
      "50    NaN  \n",
      "51    NaN  \n",
      "52    NaN  \n",
      "53    NaN  \n",
      "54    NaN  \n",
      "55    NaN  \n",
      "56    NaN  \n",
      "57    NaN  \n",
      "58    NaN  \n",
      "59    NaN  \n"
     ]
    }
   ],
   "source": [
    "data['MA50'] = data['close'].rolling(50).mean()\n",
    "data['MA200'] = data['close'].rolling(200).mean()\n",
    "\n",
    "print(data.head(60))"
   ],
   "metadata": {
    "collapsed": false,
    "pycharm": {
     "name": "#%%\n"
    }
   }
  },
  {
   "cell_type": "code",
   "execution_count": 24,
   "outputs": [],
   "source": [
    "def buy_sell(data):\n",
    "    buy = []\n",
    "    sell = []\n",
    "    flag = -1\n",
    "    for i in range(0, len(data)):\n",
    "        if data['MA50'][i] > data['MA200'][i]:\n",
    "            sell.append(np.nan)\n",
    "            if flag != 1:\n",
    "                buy.append(data['close'][i])\n",
    "                flag = 1\n",
    "            else:\n",
    "                buy.append(np.nan)\n",
    "                if flag != 0:\n",
    "                    sell.append(data['close'][i])\n",
    "                    flag = 0\n",
    "                else:\n",
    "                    sell.append(np.nan)\n",
    "        else:\n",
    "            buy.append(np.nan)\n",
    "            sell.append(np.nan)\n",
    "    return(buy, sell)"
   ],
   "metadata": {
    "collapsed": false,
    "pycharm": {
     "name": "#%%\n"
    }
   }
  },
  {
   "cell_type": "code",
   "execution_count": 25,
   "outputs": [
    {
     "ename": "ValueError",
     "evalue": "Length of values (6066) does not match length of index (4605)",
     "output_type": "error",
     "traceback": [
      "\u001B[1;31m---------------------------------------------------------------------------\u001B[0m",
      "\u001B[1;31mValueError\u001B[0m                                Traceback (most recent call last)",
      "Input \u001B[1;32mIn [25]\u001B[0m, in \u001B[0;36m<cell line: 3>\u001B[1;34m()\u001B[0m\n\u001B[0;32m      1\u001B[0m a \u001B[38;5;241m=\u001B[39m buy_sell(data)\n\u001B[0;32m      2\u001B[0m data[\u001B[38;5;124m'\u001B[39m\u001B[38;5;124mBuy_Signal_Price\u001B[39m\u001B[38;5;124m'\u001B[39m] \u001B[38;5;241m=\u001B[39m a[\u001B[38;5;241m0\u001B[39m]\n\u001B[1;32m----> 3\u001B[0m data[\u001B[38;5;124m'\u001B[39m\u001B[38;5;124mSell_Signal_Price\u001B[39m\u001B[38;5;124m'\u001B[39m] \u001B[38;5;241m=\u001B[39m a[\u001B[38;5;241m1\u001B[39m]\n",
      "File \u001B[1;32m~\\PycharmProjects\\MovingAvgs\\venv\\lib\\site-packages\\pandas\\core\\frame.py:3655\u001B[0m, in \u001B[0;36mDataFrame.__setitem__\u001B[1;34m(self, key, value)\u001B[0m\n\u001B[0;32m   3652\u001B[0m     \u001B[38;5;28mself\u001B[39m\u001B[38;5;241m.\u001B[39m_setitem_array([key], value)\n\u001B[0;32m   3653\u001B[0m \u001B[38;5;28;01melse\u001B[39;00m:\n\u001B[0;32m   3654\u001B[0m     \u001B[38;5;66;03m# set column\u001B[39;00m\n\u001B[1;32m-> 3655\u001B[0m     \u001B[38;5;28;43mself\u001B[39;49m\u001B[38;5;241;43m.\u001B[39;49m\u001B[43m_set_item\u001B[49m\u001B[43m(\u001B[49m\u001B[43mkey\u001B[49m\u001B[43m,\u001B[49m\u001B[43m \u001B[49m\u001B[43mvalue\u001B[49m\u001B[43m)\u001B[49m\n",
      "File \u001B[1;32m~\\PycharmProjects\\MovingAvgs\\venv\\lib\\site-packages\\pandas\\core\\frame.py:3832\u001B[0m, in \u001B[0;36mDataFrame._set_item\u001B[1;34m(self, key, value)\u001B[0m\n\u001B[0;32m   3822\u001B[0m \u001B[38;5;28;01mdef\u001B[39;00m \u001B[38;5;21m_set_item\u001B[39m(\u001B[38;5;28mself\u001B[39m, key, value) \u001B[38;5;241m-\u001B[39m\u001B[38;5;241m>\u001B[39m \u001B[38;5;28;01mNone\u001B[39;00m:\n\u001B[0;32m   3823\u001B[0m     \u001B[38;5;124;03m\"\"\"\u001B[39;00m\n\u001B[0;32m   3824\u001B[0m \u001B[38;5;124;03m    Add series to DataFrame in specified column.\u001B[39;00m\n\u001B[0;32m   3825\u001B[0m \n\u001B[1;32m   (...)\u001B[0m\n\u001B[0;32m   3830\u001B[0m \u001B[38;5;124;03m    ensure homogeneity.\u001B[39;00m\n\u001B[0;32m   3831\u001B[0m \u001B[38;5;124;03m    \"\"\"\u001B[39;00m\n\u001B[1;32m-> 3832\u001B[0m     value \u001B[38;5;241m=\u001B[39m \u001B[38;5;28;43mself\u001B[39;49m\u001B[38;5;241;43m.\u001B[39;49m\u001B[43m_sanitize_column\u001B[49m\u001B[43m(\u001B[49m\u001B[43mvalue\u001B[49m\u001B[43m)\u001B[49m\n\u001B[0;32m   3834\u001B[0m     \u001B[38;5;28;01mif\u001B[39;00m (\n\u001B[0;32m   3835\u001B[0m         key \u001B[38;5;129;01min\u001B[39;00m \u001B[38;5;28mself\u001B[39m\u001B[38;5;241m.\u001B[39mcolumns\n\u001B[0;32m   3836\u001B[0m         \u001B[38;5;129;01mand\u001B[39;00m value\u001B[38;5;241m.\u001B[39mndim \u001B[38;5;241m==\u001B[39m \u001B[38;5;241m1\u001B[39m\n\u001B[0;32m   3837\u001B[0m         \u001B[38;5;129;01mand\u001B[39;00m \u001B[38;5;129;01mnot\u001B[39;00m is_extension_array_dtype(value)\n\u001B[0;32m   3838\u001B[0m     ):\n\u001B[0;32m   3839\u001B[0m         \u001B[38;5;66;03m# broadcast across multiple columns if necessary\u001B[39;00m\n\u001B[0;32m   3840\u001B[0m         \u001B[38;5;28;01mif\u001B[39;00m \u001B[38;5;129;01mnot\u001B[39;00m \u001B[38;5;28mself\u001B[39m\u001B[38;5;241m.\u001B[39mcolumns\u001B[38;5;241m.\u001B[39mis_unique \u001B[38;5;129;01mor\u001B[39;00m \u001B[38;5;28misinstance\u001B[39m(\u001B[38;5;28mself\u001B[39m\u001B[38;5;241m.\u001B[39mcolumns, MultiIndex):\n",
      "File \u001B[1;32m~\\PycharmProjects\\MovingAvgs\\venv\\lib\\site-packages\\pandas\\core\\frame.py:4535\u001B[0m, in \u001B[0;36mDataFrame._sanitize_column\u001B[1;34m(self, value)\u001B[0m\n\u001B[0;32m   4532\u001B[0m     \u001B[38;5;28;01mreturn\u001B[39;00m _reindex_for_setitem(value, \u001B[38;5;28mself\u001B[39m\u001B[38;5;241m.\u001B[39mindex)\n\u001B[0;32m   4534\u001B[0m \u001B[38;5;28;01mif\u001B[39;00m is_list_like(value):\n\u001B[1;32m-> 4535\u001B[0m     \u001B[43mcom\u001B[49m\u001B[38;5;241;43m.\u001B[39;49m\u001B[43mrequire_length_match\u001B[49m\u001B[43m(\u001B[49m\u001B[43mvalue\u001B[49m\u001B[43m,\u001B[49m\u001B[43m \u001B[49m\u001B[38;5;28;43mself\u001B[39;49m\u001B[38;5;241;43m.\u001B[39;49m\u001B[43mindex\u001B[49m\u001B[43m)\u001B[49m\n\u001B[0;32m   4536\u001B[0m \u001B[38;5;28;01mreturn\u001B[39;00m sanitize_array(value, \u001B[38;5;28mself\u001B[39m\u001B[38;5;241m.\u001B[39mindex, copy\u001B[38;5;241m=\u001B[39m\u001B[38;5;28;01mTrue\u001B[39;00m, allow_2d\u001B[38;5;241m=\u001B[39m\u001B[38;5;28;01mTrue\u001B[39;00m)\n",
      "File \u001B[1;32m~\\PycharmProjects\\MovingAvgs\\venv\\lib\\site-packages\\pandas\\core\\common.py:557\u001B[0m, in \u001B[0;36mrequire_length_match\u001B[1;34m(data, index)\u001B[0m\n\u001B[0;32m    553\u001B[0m \u001B[38;5;124;03m\"\"\"\u001B[39;00m\n\u001B[0;32m    554\u001B[0m \u001B[38;5;124;03mCheck the length of data matches the length of the index.\u001B[39;00m\n\u001B[0;32m    555\u001B[0m \u001B[38;5;124;03m\"\"\"\u001B[39;00m\n\u001B[0;32m    556\u001B[0m \u001B[38;5;28;01mif\u001B[39;00m \u001B[38;5;28mlen\u001B[39m(data) \u001B[38;5;241m!=\u001B[39m \u001B[38;5;28mlen\u001B[39m(index):\n\u001B[1;32m--> 557\u001B[0m     \u001B[38;5;28;01mraise\u001B[39;00m \u001B[38;5;167;01mValueError\u001B[39;00m(\n\u001B[0;32m    558\u001B[0m         \u001B[38;5;124m\"\u001B[39m\u001B[38;5;124mLength of values \u001B[39m\u001B[38;5;124m\"\u001B[39m\n\u001B[0;32m    559\u001B[0m         \u001B[38;5;124mf\u001B[39m\u001B[38;5;124m\"\u001B[39m\u001B[38;5;124m(\u001B[39m\u001B[38;5;132;01m{\u001B[39;00m\u001B[38;5;28mlen\u001B[39m(data)\u001B[38;5;132;01m}\u001B[39;00m\u001B[38;5;124m) \u001B[39m\u001B[38;5;124m\"\u001B[39m\n\u001B[0;32m    560\u001B[0m         \u001B[38;5;124m\"\u001B[39m\u001B[38;5;124mdoes not match length of index \u001B[39m\u001B[38;5;124m\"\u001B[39m\n\u001B[0;32m    561\u001B[0m         \u001B[38;5;124mf\u001B[39m\u001B[38;5;124m\"\u001B[39m\u001B[38;5;124m(\u001B[39m\u001B[38;5;132;01m{\u001B[39;00m\u001B[38;5;28mlen\u001B[39m(index)\u001B[38;5;132;01m}\u001B[39;00m\u001B[38;5;124m)\u001B[39m\u001B[38;5;124m\"\u001B[39m\n\u001B[0;32m    562\u001B[0m     )\n",
      "\u001B[1;31mValueError\u001B[0m: Length of values (6066) does not match length of index (4605)"
     ]
    }
   ],
   "source": [
    "a = buy_sell(data)\n",
    "data['Buy_Signal_Price'] = a[0]\n",
    "data['Sell_Signal_Price'] = a[1]"
   ],
   "metadata": {
    "collapsed": false,
    "pycharm": {
     "name": "#%%\n"
    }
   }
  },
  {
   "cell_type": "code",
   "execution_count": null,
   "outputs": [],
   "source": [],
   "metadata": {
    "collapsed": false,
    "pycharm": {
     "name": "#%%\n"
    }
   }
  }
 ],
 "metadata": {
  "kernelspec": {
   "display_name": "Python 3",
   "language": "python",
   "name": "python3"
  },
  "language_info": {
   "codemirror_mode": {
    "name": "ipython",
    "version": 2
   },
   "file_extension": ".py",
   "mimetype": "text/x-python",
   "name": "python",
   "nbconvert_exporter": "python",
   "pygments_lexer": "ipython2",
   "version": "2.7.6"
  }
 },
 "nbformat": 4,
 "nbformat_minor": 0
}