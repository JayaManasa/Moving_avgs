{
 "cells": [
  {
   "cell_type": "code",
   "execution_count": 89,
   "outputs": [],
   "source": [
    "import pandas as pd\n",
    "import json\n",
    "import numpy as np\n",
    "import matplotlib.pyplot as plt\n",
    "from datetime import datetime\n",
    "import statistics as st\n"
   ],
   "metadata": {
    "collapsed": false,
    "pycharm": {
     "name": "#%%\n"
    }
   }
  },
  {
   "cell_type": "code",
   "execution_count": 90,
   "outputs": [],
   "source": [
    "data = pd.read_json('day.json')"
   ],
   "metadata": {
    "collapsed": false,
    "pycharm": {
     "name": "#%%\n"
    }
   }
  },
  {
   "cell_type": "code",
   "execution_count": null,
   "outputs": [],
   "source": [
    "data.columns= ['date', 'open', 'high', 'low', 'close', 'volume']\n",
    "\n",
    "print(data.head())"
   ],
   "metadata": {
    "collapsed": false,
    "pycharm": {
     "name": "#%%\n",
     "is_executing": true
    }
   }
  },
  {
   "cell_type": "code",
   "execution_count": null,
   "outputs": [],
   "source": [
    "#Calculating moving averages for 50 & 200 days\n",
    "data['MA50'] = data['close'].rolling(51).mean()\n",
    "data['MA200'] = data['close'].rolling(201).mean()\n",
    "\n",
    "print(data.head(60))"
   ],
   "metadata": {
    "collapsed": false,
    "pycharm": {
     "name": "#%%\n",
     "is_executing": true
    }
   }
  },
  {
   "cell_type": "code",
   "execution_count": 93,
   "outputs": [],
   "source": [
    "#Creating buy/sell at entry exit positions\n",
    "\n",
    "def buy_sell(data):\n",
    "    signalbuy = []\n",
    "    signalsell = []\n",
    "    position = False\n",
    "\n",
    "    for i in range(len(data)):\n",
    "        if data['MA50'][i] > data['MA200'][i]:\n",
    "            if position == False :\n",
    "                signalbuy.append(data['close'][i])\n",
    "                signalsell.append(np.nan)\n",
    "                position = True\n",
    "            else:\n",
    "                signalbuy.append(np.nan)\n",
    "                signalsell.append(np.nan)\n",
    "        elif data['MA50'][i] < data['MA200'][i]:\n",
    "            if position == True:\n",
    "                signalbuy.append(np.nan)\n",
    "                signalsell.append(data['close'][i])\n",
    "                position = False\n",
    "            else:\n",
    "                signalbuy.append(np.nan)\n",
    "                signalsell.append(np.nan)\n",
    "        else:\n",
    "            signalbuy.append(np.nan)\n",
    "            signalsell.append(np.nan)\n",
    "    return pd.Series([signalbuy, signalsell])\n"
   ],
   "metadata": {
    "collapsed": false,
    "pycharm": {
     "name": "#%%\n"
    }
   }
  },
  {
   "cell_type": "code",
   "execution_count": null,
   "outputs": [],
   "source": [
    "data['buy_signal_price'], data['sell_signal_price'] = buy_sell(data)\n",
    "print(data.head(1000))"
   ],
   "metadata": {
    "collapsed": false,
    "pycharm": {
     "name": "#%%\n",
     "is_executing": true
    }
   }
  },
  {
   "cell_type": "code",
   "execution_count": null,
   "outputs": [],
   "source": [
    "#Merge buy and signal positions\n",
    "data['buy_sell'] = data[['buy_signal_price','sell_signal_price']].sum(1)\n",
    "\n",
    "pd.set_option('display.max_rows', 500)\n",
    "print(data.head(600))"
   ],
   "metadata": {
    "collapsed": false,
    "pycharm": {
     "name": "#%%\n",
     "is_executing": true
    }
   }
  },
  {
   "cell_type": "code",
   "execution_count": null,
   "outputs": [],
   "source": [
    "#Calculating percentage change on buy sell\n",
    "data['pct_change'] = data['buy_sell'].pct_change()\n",
    "print(data.head(600))"
   ],
   "metadata": {
    "collapsed": false,
    "pycharm": {
     "name": "#%%\n",
     "is_executing": true
    }
   }
  },
  {
   "cell_type": "code",
   "execution_count": null,
   "outputs": [],
   "source": [
    "#Total return\n",
    "\n",
    "initial_investment = float(10000)\n",
    "pct_sum = 5.3262\n",
    "total_return = ((pct_sum*initial_investment)- initial_investment)\n",
    "print(total_return)"
   ],
   "metadata": {
    "collapsed": false,
    "pycharm": {
     "name": "#%%\n",
     "is_executing": true
    }
   }
  },
  {
   "cell_type": "code",
   "execution_count": 214,
   "outputs": [],
   "source": [
    "data['cumulative_pct'] = data['pct_change'].cumsum()"
   ],
   "metadata": {
    "collapsed": false,
    "pycharm": {
     "name": "#%%\n"
    }
   }
  },
  {
   "cell_type": "code",
   "execution_count": null,
   "outputs": [],
   "source": [
    "data = data.drop([4590,4591,4592,4593,4594,4595,4596,4597,4598,4599,4600,4601,4602,4603,4604])\n"
   ],
   "metadata": {
    "collapsed": false,
    "pycharm": {
     "name": "#%%\n",
     "is_executing": true
    }
   }
  },
  {
   "cell_type": "code",
   "execution_count": null,
   "outputs": [],
   "source": [
    "data['date1'] = data['date'].apply(lambda x: datetime.strptime(x, '%Y-%m-%dT%H:%M:%S+0530'))\n",
    "print(data)"
   ],
   "metadata": {
    "collapsed": false,
    "pycharm": {
     "name": "#%%\n",
     "is_executing": true
    }
   }
  },
  {
   "cell_type": "code",
   "execution_count": null,
   "outputs": [],
   "source": [
    "data.info()\n"
   ],
   "metadata": {
    "collapsed": false,
    "pycharm": {
     "name": "#%%\n",
     "is_executing": true
    }
   }
  },
  {
   "cell_type": "markdown",
   "source": [],
   "metadata": {
    "collapsed": false,
    "pycharm": {
     "name": "#%% md\n"
    }
   }
  },
  {
   "cell_type": "code",
   "execution_count": null,
   "outputs": [],
   "source": [
    "dateend=np.datetime64('2021-09')\n",
    "datestart=np.datetime64('2003-01')\n",
    "\n",
    "duration= dateend-datestart\n",
    "\n",
    "print(duration)"
   ],
   "metadata": {
    "collapsed": false,
    "pycharm": {
     "name": "#%%\n",
     "is_executing": true
    }
   }
  },
  {
   "cell_type": "markdown",
   "source": [],
   "metadata": {
    "collapsed": false,
    "pycharm": {
     "name": "#%% md\n"
    }
   }
  },
  {
   "cell_type": "code",
   "execution_count": null,
   "outputs": [],
   "source": [
    "#annualize_return\n",
    "annualized_return=((total_return/initial_investment)**(12/224) -1)*100\n",
    "print(annualized_return)"
   ],
   "metadata": {
    "collapsed": false,
    "pycharm": {
     "name": "#%%\n",
     "is_executing": true
    }
   }
  },
  {
   "cell_type": "code",
   "execution_count": null,
   "outputs": [],
   "source": [
    "data.dtypes"
   ],
   "metadata": {
    "collapsed": false,
    "pycharm": {
     "name": "#%%\n",
     "is_executing": true
    }
   }
  },
  {
   "cell_type": "code",
   "execution_count": null,
   "outputs": [],
   "source": [
    "#sharpe ratio\n",
    "risk_free_return = 4\n",
    "standard_deviation = st.stdev(data['buy_sell'])\n",
    "sharpe_ratio = ((annualized_return- risk_free_return)/(2*standard_deviation))*100\n",
    "print(sharpe_ratio)\n"
   ],
   "metadata": {
    "collapsed": false,
    "pycharm": {
     "name": "#%%\n",
     "is_executing": true
    }
   }
  },
  {
   "cell_type": "code",
   "execution_count": 222,
   "outputs": [
    {
     "name": "stdout",
     "output_type": "stream",
     "text": [
      "0             inf\n",
      "1             inf\n",
      "2             inf\n",
      "3             inf\n",
      "4             inf\n",
      "          ...    \n",
      "4585    56.369049\n",
      "4586    56.369049\n",
      "4587    56.369049\n",
      "4588    56.369049\n",
      "4589    56.369049\n",
      "Name: buy_sell, Length: 4590, dtype: float64\n"
     ]
    }
   ],
   "source": [
    "peaks = data['buy_sell'].cummax()\n",
    "drawdwons = (total_return- peaks)/peaks\n",
    "print(drawdwons)"
   ],
   "metadata": {
    "collapsed": false,
    "pycharm": {
     "name": "#%%\n"
    }
   }
  },
  {
   "cell_type": "code",
   "execution_count": 229,
   "outputs": [],
   "source": [
    "def MaxDrawdown(buy_sell):\n",
    "    mdd = 0\n",
    "    maxprev = buy_sell[0]\n",
    "    for i in range(1, len(buy_sell)):\n",
    "        mdd = np.fmax(mdd, (maxprev- buy_sell[i])/maxprev)\n",
    "        maxprev = np.fmax(maxprev, buy_sell[i])\n",
    "    return mdd\n",
    "    print('mdd')"
   ],
   "metadata": {
    "collapsed": false,
    "pycharm": {
     "name": "#%%\n"
    }
   }
  }
 ],
 "metadata": {
  "kernelspec": {
   "display_name": "Python 3",
   "language": "python",
   "name": "python3"
  },
  "language_info": {
   "codemirror_mode": {
    "name": "ipython",
    "version": 2
   },
   "file_extension": ".py",
   "mimetype": "text/x-python",
   "name": "python",
   "nbconvert_exporter": "python",
   "pygments_lexer": "ipython2",
   "version": "2.7.6"
  }
 },
 "nbformat": 4,
 "nbformat_minor": 0
}